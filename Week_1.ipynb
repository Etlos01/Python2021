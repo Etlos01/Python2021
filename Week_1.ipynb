{
 "cells": [
  {
   "cell_type": "markdown",
   "metadata": {},
   "source": [
    "# Week 1 handin"
   ]
  },
  {
   "cell_type": "markdown",
   "metadata": {},
   "source": [
    "## 01 Assignment\n",
    "1. Create 5 list comprehensions to solve the following 5 problems:\n",
    "  1. Iterate a list of names to return a list of the names starting with H\n",
    "  2. In one line create a list of the numbers 1-100 to the power of 3\n",
    "  3. Iterate a list of names to create a list of tuples where the tuples first value is the length of the name and the second is the name\n",
    "  4. Iterate over each character in a string and get only those that are nummeric\n",
    "  5. Using only a list comprehension wrapped in set() get all possible combination from throwing 2 dice (hint use 2 for loops in a single list comprehension)\n",
    "\n",
    "2. Create 2 dictionary comprehensions to solve the following:\n",
    "  1. Iterate a list of names and create a dictionary where key is the name and value is the length of the name\n",
    "  2. Iterate a list of numbers and create a dictionary with {key:value} being {number:squareroot_of_number}\n",
    "\n",
    "3. Extra assignment (This one goes beyond what is covered in the course notebooks. So only do it if you want an extra challenge).\n",
    "  - Progammatically using loops create a small program to produce a dictionary with all the 2 dice throw combinations as keys and their likelyhood in percent as values"
   ]
  },
  {
   "cell_type": "markdown",
   "metadata": {},
   "source": [
    "## 02 Status\n",
    "Finished all. "
   ]
  },
  {
   "cell_type": "markdown",
   "metadata": {},
   "source": [
    "## 03 Solution part 1"
   ]
  },
  {
   "cell_type": "code",
   "execution_count": 1,
   "metadata": {},
   "outputs": [
    {
     "name": "stdout",
     "output_type": "stream",
     "text": [
      "['Henrik', 'Helle', 'Hans']\n"
     ]
    }
   ],
   "source": [
    "name_list = [\"Christoffer\", \"Alex\", \"Benjamin\", \"Nicolas\", \"Andreas\", \"Henrik\", \"Lars\", \"Mie\", \"Helle\", \"Hans\", \"Bo\", \"Viktor\"]\n",
    "new_list = [name for name in name_list if name.startswith(\"H\")]\n",
    "print(new_list)"
   ]
  },
  {
   "cell_type": "code",
   "execution_count": 4,
   "metadata": {},
   "outputs": [
    {
     "name": "stdout",
     "output_type": "stream",
     "text": [
      "[1, 8, 27, 64, 125, 216, 343, 512, 729, 1000, 1331, 1728, 2197, 2744, 3375, 4096, 4913, 5832, 6859, 8000, 9261, 10648, 12167, 13824, 15625, 17576, 19683, 21952, 24389, 27000, 29791, 32768, 35937, 39304, 42875, 46656, 50653, 54872, 59319, 64000, 68921, 74088, 79507, 85184, 91125, 97336, 103823, 110592, 117649, 125000, 132651, 140608, 148877, 157464, 166375, 175616, 185193, 195112, 205379, 216000, 226981, 238328, 250047, 262144, 274625, 287496, 300763, 314432, 328509, 343000, 357911, 373248, 389017, 405224, 421875, 438976, 456533, 474552, 493039, 512000, 531441, 551368, 571787, 592704, 614125, 636056, 658503, 681472, 704969, 729000, 753571, 778688, 804357, 830584, 857375, 884736, 912673, 941192, 970299]\n"
     ]
    }
   ],
   "source": [
    "toThePowerOf3 = [value **3 for value in range(1, 100)]\n",
    "print(toThePowerOf3)"
   ]
  },
  {
   "cell_type": "code",
   "execution_count": 5,
   "metadata": {},
   "outputs": [
    {
     "name": "stdout",
     "output_type": "stream",
     "text": [
      "[(11, 'Christoffer'), (4, 'Alex'), (8, 'Benjamin'), (7, 'Nicolas'), (7, 'Andreas'), (6, 'Henrik'), (4, 'Lars'), (3, 'Mie'), (5, 'Helle'), (4, 'Hans'), (2, 'Bo'), (6, 'Viktor')]\n"
     ]
    }
   ],
   "source": [
    "name_list = [\"Christoffer\", \"Alex\", \"Benjamin\", \"Nicolas\", \"Andreas\", \"Henrik\", \"Lars\", \"Mie\", \"Helle\", \"Hans\", \"Bo\", \"Viktor\"]\n",
    "new_list = [tuple((len(name),name)) for name in name_list]\n",
    "print(new_list)"
   ]
  },
  {
   "cell_type": "code",
   "execution_count": 15,
   "metadata": {},
   "outputs": [
    {
     "name": "stdout",
     "output_type": "stream",
     "text": [
      "431\n"
     ]
    }
   ],
   "source": [
    "myString = \"M4st3rm1nd\"\n",
    "newString = \"\".join([x for x in myString if x.isnumeric()])\n",
    "print(newString)\n"
   ]
  },
  {
   "cell_type": "code",
   "execution_count": 32,
   "metadata": {},
   "outputs": [
    {
     "name": "stdout",
     "output_type": "stream",
     "text": [
      "{(1, 3), (6, 6), (5, 6), (2, 1), (6, 2), (1, 6), (5, 1), (2, 5), (1, 2), (3, 3), (5, 5), (4, 4), (6, 3), (1, 5), (3, 6), (2, 2), (4, 1), (1, 1), (6, 4), (3, 2), (2, 6), (5, 4), (4, 5), (5, 2), (1, 4), (2, 3), (4, 2), (6, 5), (3, 5), (5, 3), (4, 6), (6, 1), (3, 1), (4, 3), (3, 4), (2, 4)}\n"
     ]
    }
   ],
   "source": [
    "die1 = (1,2,3,4,5,6)\n",
    "die2 = (1,2,3,4,5,6)\n",
    "combos = set((x,y) for x in die1 for y in die2)\n",
    "print(sorted(combos))\n",
    "#print(combos)"
   ]
  },
  {
   "cell_type": "markdown",
   "metadata": {},
   "source": [
    "## 04 Solution part 2"
   ]
  },
  {
   "cell_type": "code",
   "execution_count": 36,
   "metadata": {},
   "outputs": [
    {
     "name": "stdout",
     "output_type": "stream",
     "text": [
      "{'Christoffer': 11, 'Alex': 4, 'Benjamin': 8, 'Nicolas': 7, 'Andreas': 7, 'Henrik': 6, 'Lars': 4, 'Mie': 3, 'Helle': 5, 'Hans': 4, 'Bo': 2, 'Viktor': 6}\n"
     ]
    }
   ],
   "source": [
    "name_list = [\"Christoffer\", \"Alex\", \"Benjamin\", \"Nicolas\", \"Andreas\", \"Henrik\", \"Lars\", \"Mie\", \"Helle\", \"Hans\", \"Bo\", \"Viktor\"]\n",
    "new_dic = {name:len(name) for name in name_list}\n",
    "print(new_dic)"
   ]
  },
  {
   "cell_type": "code",
   "execution_count": 43,
   "metadata": {},
   "outputs": [
    {
     "name": "stdout",
     "output_type": "stream",
     "text": [
      "{1: 1.0, 2: 1.41, 3: 1.73, 4: 2.0, 5: 2.24, 6: 2.45, 7: 2.65, 8: 2.83, 9: 3.0}\n"
     ]
    }
   ],
   "source": [
    "import math\n",
    "numbers = [1,2,3,4,5,6,7,8,9]\n",
    "new_dic = {n:round(math.sqrt(n),2) for n in numbers}\n",
    "print(new_dic)"
   ]
  },
  {
   "cell_type": "markdown",
   "metadata": {},
   "source": [
    "## 05 Solution part 3"
   ]
  },
  {
   "cell_type": "code",
   "execution_count": 56,
   "metadata": {},
   "outputs": [
    {
     "name": "stdout",
     "output_type": "stream",
     "text": [
      "[(1, 1), (1, 2), (1, 3), (1, 4), (1, 5), (1, 6), (2, 1), (2, 2), (2, 3), (2, 4), (2, 5), (2, 6), (3, 1), (3, 2), (3, 3), (3, 4), (3, 5), (3, 6), (4, 1), (4, 2), (4, 3), (4, 4), (4, 5), (4, 6), (5, 1), (5, 2), (5, 3), (5, 4), (5, 5), (5, 6), (6, 1), (6, 2), (6, 3), (6, 4), (6, 5), (6, 6)]\n",
      "{(1, 1): 2.78, (1, 2): 2.78, (1, 3): 2.78, (1, 4): 2.78, (1, 5): 2.78, (1, 6): 2.78, (2, 1): 2.78, (2, 2): 2.78, (2, 3): 2.78, (2, 4): 2.78, (2, 5): 2.78, (2, 6): 2.78, (3, 1): 2.78, (3, 2): 2.78, (3, 3): 2.78, (3, 4): 2.78, (3, 5): 2.78, (3, 6): 2.78, (4, 1): 2.78, (4, 2): 2.78, (4, 3): 2.78, (4, 4): 2.78, (4, 5): 2.78, (4, 6): 2.78, (5, 1): 2.78, (5, 2): 2.78, (5, 3): 2.78, (5, 4): 2.78, (5, 5): 2.78, (5, 6): 2.78, (6, 1): 2.78, (6, 2): 2.78, (6, 3): 2.78, (6, 4): 2.78, (6, 5): 2.78, (6, 6): 2.78}\n"
     ]
    }
   ],
   "source": [
    "die1 = (1,2,3,4,5,6)\n",
    "die2 = (1,2,3,4,5,6)\n",
    "combos = sorted(set((x,y) for x in die1 for y in die2))\n",
    "new_dic = {c: round(100/len(combos),2) for c in combos }\n",
    "\n",
    "print(combos)\n",
    "print(new_dic)"
   ]
  }
 ],
 "metadata": {
  "kernelspec": {
   "display_name": "Python 3",
   "language": "python",
   "name": "python3"
  },
  "language_info": {
   "codemirror_mode": {
    "name": "ipython",
    "version": 3
   },
   "file_extension": ".py",
   "mimetype": "text/x-python",
   "name": "python",
   "nbconvert_exporter": "python",
   "pygments_lexer": "ipython3",
   "version": "3.7.6"
  }
 },
 "nbformat": 4,
 "nbformat_minor": 4
}
