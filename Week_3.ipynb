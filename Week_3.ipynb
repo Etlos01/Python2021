{
 "cells": [
  {
   "cell_type": "markdown",
   "metadata": {},
   "source": [
    "# Week 3 handin"
   ]
  },
  {
   "cell_type": "markdown",
   "metadata": {},
   "source": [
    "## 01 Assignment\n",
    "\n",
    "## Ex 1 Classes\n",
    "1. Create 3 classes: Student, DataSheet and Course\n",
    "2. A student has a data_sheet and a data_sheet has multiple courses in particular order\n",
    "3. Each course has name, classroom, teacher, ETCS and optional grade if course is taken.\n",
    "4. In Student create __init__() so that a Student can be initiated with name, gender, data_sheet and image_url\n",
    "5. In DataSheet create a method to get_grades_as_list()\n",
    "6. In student create a method: get_avg_grade()\n",
    "7. Create a function that can generate n number of students with random: name, gender, courses (from a fixed list of course names), grades, img_url\n",
    "   1. Let the function write the result to a csv file with format stud_name, course_name, teacher, ects, classroom, grade, img_url\n",
    "7. Read student data into a list of Students from a csv file: \n",
    "   1. loop through the list and print each student with name, img_url and avg_grade.\n",
    "   2. sort the list by avg_grade\n",
    "   3. create a bar chart with student_name on x and avg_grade on y-axis\n",
    "8. Make a method on Student class that can show progression of the study in % (add up ECTS from all passed courses divided by total of 150 total points (equivalent to 5 semesters))\n",
    "9. Show a bar chart of distribution of study progression on x-axis and number of students in each category on y-axis. (e.g. make 10 categories from 0-100%)\n",
    "\n",
    "Extra: Make the Datasheet class iterable so that next(data_sheet) will return the next course in the list\n",
    "\n",
    "## Ex 2 Exceptions (extra)\n",
    "1. Create a function that can take a list of students and return the 3 students closest to completing their study.\n",
    "2. If list is shorter than 3 raise your own custom exception (NotEnoughStudentsException)\n",
    "3. Create another function that can create a csv file with 3 students closest to completion\n",
    "   1. If an exception is raised write an appropriate message to the file\n",
    "\n",
    "## Ex 3 Plotting (extra)\n",
    "1. Create a function that can take a list of students and show a pie chart of how students are distributed in ECTS percentage categories (10%, 20%, ...)\n",
    "2. create a function that can take a list of students and show how many students have taken each course (bar chart)\n",
    "   1. create a method on student that can return a list of courses\n",
    "3. make the figure show males and females in different colors for each course (display 2 datasets in same figure)\n"
   ]
  },
  {
   "cell_type": "markdown",
   "metadata": {},
   "source": [
    "## 02 Status\n",
    "EX 1 and 2 done. "
   ]
  },
  {
   "cell_type": "markdown",
   "metadata": {},
   "source": [
    "## Solution 1 part 1-6 and 9"
   ]
  },
  {
   "cell_type": "code",
   "execution_count": 1,
   "metadata": {},
   "outputs": [],
   "source": [
    "#Create 3 classes: Student, DataSheet and Course\n",
    "#A student has a data_sheet and a data_sheet has multiple courses in particular order\n",
    "#Each course has name, classroom, teacher, ETCS and optional grade if course is taken.\n",
    "#In Student create init() so that a Student can be initiated with name, gender, data_sheet and image_url\n",
    "#In DataSheet create a method to get_grades_as_list()\n",
    "#In student create a method: get_avg_grade()\n",
    "\n",
    "import random , csv, operator, matplotlib.pyplot as plt\n",
    "from modules import week2\n",
    "\n",
    "class Student():\n",
    "    \n",
    "    def __init__(self, name, gender, image_url):\n",
    "        self.name = name\n",
    "        self.gender = gender\n",
    "        self.image_url = image_url\n",
    "        self.data_sheet = DataSheet()\n",
    "        \n",
    "    def __str__(self):\n",
    "        return '{name} ({gender}) attending courses: {courses}.'.format(\n",
    "            name=self.name, courses=self.data_sheet.__str__(), gender=self.gender)\n",
    "        \n",
    "    def get_avg_grade(self):\n",
    "        lst = self.data_sheet.get_grades_as_list()\n",
    "        g_sum = 0\n",
    "        for grade in lst:\n",
    "            g_sum += int(grade)\n",
    "        avg_grade = g_sum/len(lst)\n",
    "        return avg_grade\n",
    "\n",
    "    def show_progression(self):\n",
    "        etcs_sum = 0\n",
    "        for c in self.data_sheet.courses:\n",
    "            etcs_sum += int(c.etcs)\n",
    "        progres_in_percent = round((etcs_sum/150)*100)\n",
    "        return progres_in_percent\n",
    "            \n",
    "        \n",
    "class DataSheet():\n",
    "    \n",
    "    def __init__(self):\n",
    "        self.courses = []\n",
    "        \n",
    "    def __str__(self):\n",
    "        String = \"\"\n",
    "        for c in self.courses:\n",
    "            String += \"\\n\" + c.name + \"\\n Teacher: \" + c.teacher + \"\\n ETCS: \" + c.etcs + \"\\n Classroom: \" + str(c.classroom) + \"\\n Grade: \" + str(c.grade)\n",
    "        return String +\"\\n\"\n",
    "        \n",
    "    def get_grades_as_list(self):\n",
    "        lst = []\n",
    "        for x in self.courses:\n",
    "            lst.append(x.grade)\n",
    "        return lst\n",
    "        \n",
    "    def add_course(self, *Course):\n",
    "        for c in Course:\n",
    "            self.courses.append(c)\n",
    "    \n",
    "class Course():\n",
    "    \n",
    "    def __init__(self, name, classroom, teacher, etcs):\n",
    "        self.name = name\n",
    "        self.classroom = classroom\n",
    "        self.teacher = teacher\n",
    "        self.etcs = etcs\n",
    "        self.grade = None\n",
    "        \n",
    "    def set_grade(self, grade):\n",
    "        self.grade = grade\n",
    "        \n",
    "    \n"
   ]
  },
  {
   "cell_type": "markdown",
   "metadata": {},
   "source": [
    "## Solution 1 part 7"
   ]
  },
  {
   "cell_type": "code",
   "execution_count": 2,
   "metadata": {},
   "outputs": [],
   "source": [
    "#Create a function that can generate n number of students with random: name, gender, courses (from a fixed list of course names), grades, img_url\n",
    "#Let the function write the result to a csv file with format stud_name, course_name, teacher, ects, classroom, grade, img_url\n",
    "\n",
    "def generate_student(n, output_file):\n",
    "    StudentNameList = [\"Andreas\", \"Alex\", \"Benjamin\", \"Nicolas\", \"Christoffer\", \"Lars\", \"Kim\", \"Henrik\", \"Victor\", \"Lenny\", \"Kasper\", \"Bo\", \"Hans\"]\n",
    "    TeacherNames = [\"Lise\", \"kurt\", \"Arne\", \"Tess\", \"Nicolaj\"]\n",
    "    ClassRooms = [1,2,3,4,5,6,7,8,9]\n",
    "    CourseNames = [\"Math\", \"Chemestry\", \"Gym\", \"Danglish\", \"English\", \"Computer Science\", \"physics\"]\n",
    "    Grades = [00, 2, 4, 7, 10, 12]\n",
    "    Students = []\n",
    "    for x in range(n):\n",
    "        newStudent = Student(random.choice(StudentNameList), \"Male\", \"Image_url\")\n",
    "        for i in range(random.choice([1,2,3,4,5])):\n",
    "            course = Course(random.choice(CourseNames), random.choice(ClassRooms), random.choice(TeacherNames), 30)\n",
    "            newStudent.data_sheet.add_course(course)\n",
    "        for c in newStudent.data_sheet.courses:\n",
    "            c.set_grade(random.choice(Grades))\n",
    "        Students.append(newStudent)\n",
    "    with open(output_file, \"w\") as file:\n",
    "        for s in Students:\n",
    "            for c in s.data_sheet.courses:\n",
    "                file.write(s.name + ',' + s.gender + ',' + c.name + ',' + c.teacher + ',' + str(c.etcs) + ',' + str(c.classroom) + ',' + str(c.grade) + ',' + s.image_url + '\\n')\n",
    "    return Students"
   ]
  },
  {
   "cell_type": "code",
   "execution_count": 3,
   "metadata": {},
   "outputs": [
    {
     "name": "stdout",
     "output_type": "stream",
     "text": [
      "Hans,Male,Computer Science,Lise,30,3,0,Image_url\r\n",
      "Lars,Male,Gym,kurt,30,6,4,Image_url\r\n",
      "Lars,Male,Computer Science,kurt,30,5,2,Image_url\r\n",
      "Benjamin,Male,Computer Science,Lise,30,4,10,Image_url\r\n",
      "Benjamin,Male,English,Lise,30,5,4,Image_url\r\n",
      "Kasper,Male,Math,Arne,30,2,0,Image_url\r\n",
      "Hans,Male,Computer Science,kurt,30,7,0,Image_url\r\n",
      "Hans,Male,Computer Science,Lise,30,4,7,Image_url\r\n",
      "Hans,Male,Gym,Tess,30,9,0,Image_url\r\n",
      "Hans,Male,Gym,Nicolaj,30,3,12,Image_url\r\n",
      "Christoffer,Male,Math,kurt,30,2,0,Image_url\r\n",
      "Christoffer,Male,physics,kurt,30,8,0,Image_url\r\n",
      "Victor,Male,physics,kurt,30,6,12,Image_url\r\n",
      "Hans,Male,English,Nicolaj,30,6,12,Image_url\r\n",
      "Hans,Male,English,Tess,30,3,12,Image_url\r\n",
      "Hans,Male,Computer Science,kurt,30,7,7,Image_url\r\n",
      "Christoffer,Male,English,Tess,30,7,7,Image_url\r\n",
      "Christoffer,Male,Computer Science,kurt,30,8,10,Image_url\r\n",
      "Christoffer,Male,Chemestry,Arne,30,5,2,Image_url\r\n",
      "Christoffer,Male,physics,Arne,30,6,10,Image_url\r\n",
      "Christoffer,Male,English,kurt,30,3,7,Image_url\r\n",
      "Christoffer,Male,Chemestry,Lise,30,8,12,Image_url\r\n",
      "Kasper,Male,Danglish,Lise,30,4,2,Image_url\r\n",
      "Kasper,Male,Computer Science,Arne,30,2,0,Image_url\r\n",
      "Bo,Male,Gym,Lise,30,6,12,Image_url\r\n",
      "Bo,Male,Computer Science,kurt,30,6,0,Image_url\r\n",
      "Lenny,Male,English,Arne,30,1,0,Image_url\r\n",
      "Lenny,Male,English,kurt,30,8,7,Image_url\r\n",
      "Lenny,Male,English,Lise,30,6,12,Image_url\r\n",
      "Lars,Male,Gym,Lise,30,8,4,Image_url\r\n",
      "Lars,Male,Math,Tess,30,2,4,Image_url\r\n",
      "Benjamin,Male,physics,Lise,30,1,7,Image_url\r\n",
      "Benjamin,Male,English,Arne,30,8,12,Image_url\r\n",
      "Benjamin,Male,English,Lise,30,4,7,Image_url\r\n",
      "Benjamin,Male,Computer Science,kurt,30,4,4,Image_url\r\n"
     ]
    }
   ],
   "source": [
    "generate_student(15, 'modules/csv_week_3.txt')\n",
    "!cat modules/csv_week_3.txt"
   ]
  },
  {
   "cell_type": "markdown",
   "metadata": {},
   "source": [
    "## Solution 1 part 8"
   ]
  },
  {
   "cell_type": "code",
   "execution_count": 4,
   "metadata": {},
   "outputs": [
    {
     "name": "stdout",
     "output_type": "stream",
     "text": [
      "Hans (Male) attending courses: \n",
      "Computer Science\n",
      " Teacher: Lise\n",
      " ETCS: 30\n",
      " Classroom: 3\n",
      " Grade: 0\n",
      ".\n",
      "Lars (Male) attending courses: \n",
      "Gym\n",
      " Teacher: kurt\n",
      " ETCS: 30\n",
      " Classroom: 6\n",
      " Grade: 4\n",
      "Computer Science\n",
      " Teacher: kurt\n",
      " ETCS: 30\n",
      " Classroom: 5\n",
      " Grade: 2\n",
      ".\n",
      "Benjamin (Male) attending courses: \n",
      "Computer Science\n",
      " Teacher: Lise\n",
      " ETCS: 30\n",
      " Classroom: 4\n",
      " Grade: 10\n",
      "English\n",
      " Teacher: Lise\n",
      " ETCS: 30\n",
      " Classroom: 5\n",
      " Grade: 4\n",
      ".\n",
      "Kasper (Male) attending courses: \n",
      "Math\n",
      " Teacher: Arne\n",
      " ETCS: 30\n",
      " Classroom: 2\n",
      " Grade: 0\n",
      ".\n",
      "Hans (Male) attending courses: \n",
      "Computer Science\n",
      " Teacher: kurt\n",
      " ETCS: 30\n",
      " Classroom: 7\n",
      " Grade: 0\n",
      "Computer Science\n",
      " Teacher: Lise\n",
      " ETCS: 30\n",
      " Classroom: 4\n",
      " Grade: 7\n",
      "Gym\n",
      " Teacher: Tess\n",
      " ETCS: 30\n",
      " Classroom: 9\n",
      " Grade: 0\n",
      "Gym\n",
      " Teacher: Nicolaj\n",
      " ETCS: 30\n",
      " Classroom: 3\n",
      " Grade: 12\n",
      ".\n",
      "Christoffer (Male) attending courses: \n",
      "Math\n",
      " Teacher: kurt\n",
      " ETCS: 30\n",
      " Classroom: 2\n",
      " Grade: 0\n",
      "physics\n",
      " Teacher: kurt\n",
      " ETCS: 30\n",
      " Classroom: 8\n",
      " Grade: 0\n",
      ".\n",
      "Victor (Male) attending courses: \n",
      "physics\n",
      " Teacher: kurt\n",
      " ETCS: 30\n",
      " Classroom: 6\n",
      " Grade: 12\n",
      ".\n",
      "Hans (Male) attending courses: \n",
      "English\n",
      " Teacher: Nicolaj\n",
      " ETCS: 30\n",
      " Classroom: 6\n",
      " Grade: 12\n",
      "English\n",
      " Teacher: Tess\n",
      " ETCS: 30\n",
      " Classroom: 3\n",
      " Grade: 12\n",
      "Computer Science\n",
      " Teacher: kurt\n",
      " ETCS: 30\n",
      " Classroom: 7\n",
      " Grade: 7\n",
      ".\n",
      "Christoffer (Male) attending courses: \n",
      "English\n",
      " Teacher: Tess\n",
      " ETCS: 30\n",
      " Classroom: 7\n",
      " Grade: 7\n",
      "Computer Science\n",
      " Teacher: kurt\n",
      " ETCS: 30\n",
      " Classroom: 8\n",
      " Grade: 10\n",
      "Chemestry\n",
      " Teacher: Arne\n",
      " ETCS: 30\n",
      " Classroom: 5\n",
      " Grade: 2\n",
      "physics\n",
      " Teacher: Arne\n",
      " ETCS: 30\n",
      " Classroom: 6\n",
      " Grade: 10\n",
      "English\n",
      " Teacher: kurt\n",
      " ETCS: 30\n",
      " Classroom: 3\n",
      " Grade: 7\n",
      "Chemestry\n",
      " Teacher: Lise\n",
      " ETCS: 30\n",
      " Classroom: 8\n",
      " Grade: 12\n",
      ".\n",
      "Kasper (Male) attending courses: \n",
      "Danglish\n",
      " Teacher: Lise\n",
      " ETCS: 30\n",
      " Classroom: 4\n",
      " Grade: 2\n",
      "Computer Science\n",
      " Teacher: Arne\n",
      " ETCS: 30\n",
      " Classroom: 2\n",
      " Grade: 0\n",
      ".\n",
      "Bo (Male) attending courses: \n",
      "Gym\n",
      " Teacher: Lise\n",
      " ETCS: 30\n",
      " Classroom: 6\n",
      " Grade: 12\n",
      "Computer Science\n",
      " Teacher: kurt\n",
      " ETCS: 30\n",
      " Classroom: 6\n",
      " Grade: 0\n",
      ".\n",
      "Lenny (Male) attending courses: \n",
      "English\n",
      " Teacher: Arne\n",
      " ETCS: 30\n",
      " Classroom: 1\n",
      " Grade: 0\n",
      "English\n",
      " Teacher: kurt\n",
      " ETCS: 30\n",
      " Classroom: 8\n",
      " Grade: 7\n",
      "English\n",
      " Teacher: Lise\n",
      " ETCS: 30\n",
      " Classroom: 6\n",
      " Grade: 12\n",
      ".\n",
      "Lars (Male) attending courses: \n",
      "Gym\n",
      " Teacher: Lise\n",
      " ETCS: 30\n",
      " Classroom: 8\n",
      " Grade: 4\n",
      "Math\n",
      " Teacher: Tess\n",
      " ETCS: 30\n",
      " Classroom: 2\n",
      " Grade: 4\n",
      ".\n",
      "Benjamin (Male) attending courses: \n",
      "physics\n",
      " Teacher: Lise\n",
      " ETCS: 30\n",
      " Classroom: 1\n",
      " Grade: 7\n",
      "English\n",
      " Teacher: Arne\n",
      " ETCS: 30\n",
      " Classroom: 8\n",
      " Grade: 12\n",
      "English\n",
      " Teacher: Lise\n",
      " ETCS: 30\n",
      " Classroom: 4\n",
      " Grade: 7\n",
      "Computer Science\n",
      " Teacher: kurt\n",
      " ETCS: 30\n",
      " Classroom: 4\n",
      " Grade: 4\n",
      ".\n"
     ]
    }
   ],
   "source": [
    "#Read student data into a list of Students from a csv file:\n",
    "\n",
    "def read_csv_into_students(input_file):\n",
    "    new_list = []\n",
    "    with open(input_file, \"r\") as f:\n",
    "        csv_reader = csv.reader(f)\n",
    "        name = ''\n",
    "        for row in csv_reader:\n",
    "            course = Course(row[2], row[5], row[3], row[4])\n",
    "            if name != row[0]:\n",
    "                name = row[0]\n",
    "                newStudent = Student(name, row[1], row[7])\n",
    "                newStudent.data_sheet.add_course(course)\n",
    "                course.set_grade(row[6])\n",
    "                new_list.append(newStudent)\n",
    "            else:\n",
    "                newStudent.data_sheet.add_course(course)\n",
    "                course.set_grade(row[6])            \n",
    "    return new_list\n",
    "\n",
    "StdList = read_csv_into_students('modules/csv_week_3.txt')\n",
    "for s in StdList:\n",
    "    print(s)"
   ]
  },
  {
   "cell_type": "code",
   "execution_count": 5,
   "metadata": {},
   "outputs": [
    {
     "name": "stdout",
     "output_type": "stream",
     "text": [
      "Hans Looks like: Image_url and has an average grade of: 0.0\n",
      "Lars Looks like: Image_url and has an average grade of: 3.0\n",
      "Benjamin Looks like: Image_url and has an average grade of: 7.0\n",
      "Kasper Looks like: Image_url and has an average grade of: 0.0\n",
      "Hans Looks like: Image_url and has an average grade of: 4.75\n",
      "Christoffer Looks like: Image_url and has an average grade of: 0.0\n",
      "Victor Looks like: Image_url and has an average grade of: 12.0\n",
      "Hans Looks like: Image_url and has an average grade of: 10.333333333333334\n",
      "Christoffer Looks like: Image_url and has an average grade of: 8.0\n",
      "Kasper Looks like: Image_url and has an average grade of: 1.0\n",
      "Bo Looks like: Image_url and has an average grade of: 6.0\n",
      "Lenny Looks like: Image_url and has an average grade of: 6.333333333333333\n",
      "Lars Looks like: Image_url and has an average grade of: 4.0\n",
      "Benjamin Looks like: Image_url and has an average grade of: 7.5\n"
     ]
    }
   ],
   "source": [
    "#loop through the list and print each student with name, img_url and avg_grade.\n",
    "for s in StdList:\n",
    "    print(s.name + ' Looks like: ' + s.image_url + ' and has an average grade of: ' + str(s.get_avg_grade()))"
   ]
  },
  {
   "cell_type": "code",
   "execution_count": 6,
   "metadata": {},
   "outputs": [
    {
     "name": "stdout",
     "output_type": "stream",
     "text": [
      "Hans\t 0.0\n",
      "Kasper\t 0.0\n",
      "Christoffer\t 0.0\n",
      "Kasper\t 1.0\n",
      "Lars\t 3.0\n",
      "Lars\t 4.0\n",
      "Hans\t 4.75\n",
      "Bo\t 6.0\n",
      "Lenny\t 6.333333333333333\n",
      "Benjamin\t 7.0\n",
      "Benjamin\t 7.5\n",
      "Christoffer\t 8.0\n",
      "Hans\t 10.333333333333334\n",
      "Victor\t 12.0\n"
     ]
    }
   ],
   "source": [
    "#sort the list by avg_grade\n",
    "sorted_by_avg_grade = sorted(StdList, key=operator.methodcaller('get_avg_grade'))\n",
    "for s in sorted_by_avg_grade:\n",
    "    print(s.name + '\\t ' + str(s.get_avg_grade()))"
   ]
  },
  {
   "cell_type": "code",
   "execution_count": 7,
   "metadata": {
    "scrolled": true
   },
   "outputs": [
    {
     "data": {
      "text/plain": [
       "<function matplotlib.pyplot.show(*args, **kw)>"
      ]
     },
     "execution_count": 7,
     "metadata": {},
     "output_type": "execute_result"
    },
    {
     "data": {
      "image/png": "[encoded data removed]",
      "text/plain": [
       "<Figure size 432x288 with 1 Axes>"
      ]
     },
     "metadata": {
      "needs_background": "light"
     },
     "output_type": "display_data"
    }
   ],
   "source": [
    "#create a bar chart with student_name on x and avg_grade on y-axis\n",
    "names = []\n",
    "for s in sorted_by_avg_grade:\n",
    "    names.append(s.name)\n",
    "grades = []\n",
    "for s in sorted_by_avg_grade:\n",
    "    grades.append(s.get_avg_grade())\n",
    "plt.bar(names,grades,width=0.5, align='center')\n",
    "plt.show"
   ]
  },
  {
   "cell_type": "markdown",
   "metadata": {},
   "source": [
    "## Solution 1 part 9"
   ]
  },
  {
   "cell_type": "code",
   "execution_count": 8,
   "metadata": {},
   "outputs": [
    {
     "name": "stdout",
     "output_type": "stream",
     "text": [
      "Hans has completed: 20% of the education.\n",
      "Kasper has completed: 20% of the education.\n",
      "Christoffer has completed: 40% of the education.\n",
      "Kasper has completed: 40% of the education.\n",
      "Lars has completed: 40% of the education.\n",
      "Lars has completed: 40% of the education.\n",
      "Hans has completed: 80% of the education.\n",
      "Bo has completed: 40% of the education.\n",
      "Lenny has completed: 60% of the education.\n",
      "Benjamin has completed: 40% of the education.\n",
      "Benjamin has completed: 80% of the education.\n",
      "Christoffer has completed: 120% of the education.\n",
      "Hans has completed: 60% of the education.\n",
      "Victor has completed: 20% of the education.\n"
     ]
    }
   ],
   "source": [
    "#Make a method on Student class that can show progression of the study in % (add up ECTS from all passed courses divided by total of 150 total points (equivalent to 5 semesters))\n",
    "for s in sorted_by_avg_grade:\n",
    "    print(s.name + ' has completed: ' + str(s.show_progression()) + '% of the education.')"
   ]
  },
  {
   "cell_type": "markdown",
   "metadata": {},
   "source": [
    "## Solution 1 part 10"
   ]
  },
  {
   "cell_type": "code",
   "execution_count": 9,
   "metadata": {},
   "outputs": [
    {
     "data": {
      "text/plain": [
       "<function matplotlib.pyplot.show(*args, **kw)>"
      ]
     },
     "execution_count": 9,
     "metadata": {},
     "output_type": "execute_result"
    },
    {
     "data": {
      "image/png": "[encoded data removed]",
      "text/plain": [
       "<Figure size 432x288 with 1 Axes>"
      ]
     },
     "metadata": {
      "needs_background": "light"
     },
     "output_type": "display_data"
    }
   ],
   "source": [
    "#Show a bar chart of distribution of study progression on x-axis and number of students in each category on y-axis. (e.g. make 10 categories from 0-100%)\n",
    "number_of_students = []\n",
    "for s in sorted_by_avg_grade:\n",
    "    number_of_students.append(s.show_progression())\n",
    "plt.hist(number_of_students, density=False, bins=10)\n",
    "plt.show"
   ]
  },
  {
   "cell_type": "code",
   "execution_count": null,
   "metadata": {},
   "outputs": [],
   "source": []
  }
 ],
 "metadata": {
  "kernelspec": {
   "display_name": "Python 3",
   "language": "python",
   "name": "python3"
  },
  "language_info": {
   "codemirror_mode": {
    "name": "ipython",
    "version": 3
   },
   "file_extension": ".py",
   "mimetype": "text/x-python",
   "name": "python",
   "nbconvert_exporter": "python",
   "pygments_lexer": "ipython3",
   "version": "3.7.6"
  }
 },
 "nbformat": 4,
 "nbformat_minor": 4
}
