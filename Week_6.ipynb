{
 "cells": [
  {
   "cell_type": "markdown",
   "metadata": {},
   "source": [
    "# Handin Week 6\n",
    "\n",
    "Create a module containing a class: TextComparer with the following methods:\n",
    "1. `__init__(self, url_list)`\n",
    "2. `download(url,filename)` that stores the file on disk and raises NotFoundException when url returns 404\n",
    "3. `multi_download()` uses threads to download multiple urls as text and stores filenames on a property of the TextComparer class object (Hint: use the download() method and create the filenames from the url or from the response object)\n",
    "4. `__iter__()` returns an iterator\n",
    "5. `__next__()` returns the next filename (and stops when there are no more)\n",
    "6. `urllist_generator()` returns a generator to loop through the urls\n",
    "7. `avg_vowels(text)` - a rough estimate on readability returns average number of vowels in the words of the text\n",
    "8. `hardest_read()` reads all text from files in `filenames` and returns the filename of the text with the highest vowel score (use all the cpu cores on the computer for this work.\n",
    "\n",
    "### Ex 2\n",
    "Create a notebook and import your module from above\n",
    "1. Find 10 books on https://www.gutenberg.org/browse/scores/top and download them using an object of the class you just created before\n",
    "2. Test the different methods of your class\n",
    "3. Make a bar plot with a sorted list of books on x-axis and avg vowels on y-axis"
   ]
  },
  {
   "cell_type": "markdown",
   "metadata": {},
   "source": [
    "## Status\n",
    "Working"
   ]
  },
  {
   "cell_type": "markdown",
   "metadata": {},
   "source": [
    "## Solution Ex1"
   ]
  },
  {
   "cell_type": "code",
   "execution_count": 1,
   "metadata": {},
   "outputs": [],
   "source": [
    "from modules import w6"
   ]
  },
  {
   "cell_type": "code",
   "execution_count": 2,
   "metadata": {},
   "outputs": [
    {
     "name": "stdout",
     "output_type": "stream",
     "text": [
      "['https://www.gutenberg.org/files/2591/2591-0.txt', 'https://www.gutenberg.org/files/16328/16328-0.txt', 'https://www.gutenberg.org/files/64764/64764-0.txt', 'https://www.gutenberg.org/files/64763/64763-0.txt', 'https://www.gutenberg.org/files/829/829-0.txt', 'https://www.gutenberg.org/files/244/244-0.txt', 'https://www.gutenberg.org/files/41/41-0.txt', 'https://www.gutenberg.org/files/64317/64317-0.txt', 'https://www.gutenberg.org/files/1952/1952-0.txt', 'https://www.gutenberg.org/files/1080/1080-0.txt']\n"
     ]
    }
   ],
   "source": [
    "url_list = [\"https://www.gutenberg.org/files/2591/2591-0.txt\",\"https://www.gutenberg.org/files/16328/16328-0.txt\",\"https://www.gutenberg.org/files/64764/64764-0.txt\",\"https://www.gutenberg.org/files/64763/64763-0.txt\",\"https://www.gutenberg.org/files/829/829-0.txt\",\"https://www.gutenberg.org/files/244/244-0.txt\",\"https://www.gutenberg.org/files/41/41-0.txt\",\"https://www.gutenberg.org/files/64317/64317-0.txt\",\"https://www.gutenberg.org/files/1952/1952-0.txt\",\"https://www.gutenberg.org/files/1080/1080-0.txt\"]\n",
    "file_for_test = 'modules/utility1.txt'\n",
    "TextComp = w6.TextComparer(url_list)\n",
    "\n",
    "print(TextComp.url_list)"
   ]
  },
  {
   "cell_type": "code",
   "execution_count": 3,
   "metadata": {},
   "outputs": [
    {
     "name": "stdout",
     "output_type": "stream",
     "text": [
      "['Grimmsâ\\x80\\x99 Fairy Tales.txt', 'Beowulf.txt', 'Flame-Jewel of the Ancients.txt', 'The Irish War.txt', 'Gulliverâ\\x80\\x99s Travels.txt', 'A Study In Scarlet.txt', 'The Legend of Sleepy Hollow.txt', 'The Great Gatsby.txt', 'The Yellow Wallpaper.txt', 'A Modest Proposal.txt']\n"
     ]
    }
   ],
   "source": [
    "TextComp.multi_download()\n",
    "print(TextComp.filenames)"
   ]
  },
  {
   "cell_type": "code",
   "execution_count": 4,
   "metadata": {},
   "outputs": [
    {
     "data": {
      "text/plain": [
       "['Grimmsâ\\x80\\x99 Fairy Tales.txt',\n",
       " 'Beowulf.txt',\n",
       " 'Flame-Jewel of the Ancients.txt',\n",
       " 'The Irish War.txt',\n",
       " 'Gulliverâ\\x80\\x99s Travels.txt',\n",
       " 'A Study In Scarlet.txt',\n",
       " 'The Legend of Sleepy Hollow.txt',\n",
       " 'The Great Gatsby.txt',\n",
       " 'The Yellow Wallpaper.txt',\n",
       " 'A Modest Proposal.txt']"
      ]
     },
     "execution_count": 4,
     "metadata": {},
     "output_type": "execute_result"
    }
   ],
   "source": [
    "[filename for filename in TextComp]"
   ]
  },
  {
   "cell_type": "code",
   "execution_count": 5,
   "metadata": {},
   "outputs": [
    {
     "name": "stdout",
     "output_type": "stream",
     "text": [
      "AVG_VOWEL_PER_WORD,   BOOK\n"
     ]
    },
    {
     "data": {
      "text/plain": [
       "(1.77116, 'Beowulf.txt')"
      ]
     },
     "execution_count": 5,
     "metadata": {},
     "output_type": "execute_result"
    }
   ],
   "source": [
    "print(\"AVG_VOWEL_PER_WORD,   BOOK\")\n",
    "TextComp.avg_vowels(TextComp.filenames[1])"
   ]
  },
  {
   "cell_type": "code",
   "execution_count": 6,
   "metadata": {},
   "outputs": [
    {
     "name": "stdout",
     "output_type": "stream",
     "text": [
      "The book that is hardest to read is: \n"
     ]
    },
    {
     "data": {
      "text/plain": [
       "(1.97357, 'The Irish War.txt')"
      ]
     },
     "execution_count": 6,
     "metadata": {},
     "output_type": "execute_result"
    }
   ],
   "source": [
    "print(\"The book that is hardest to read is: \")\n",
    "TextComp.avg_vowels(TextComp.hardest_read())"
   ]
  }
 ],
 "metadata": {
  "kernelspec": {
   "display_name": "Python 3",
   "language": "python",
   "name": "python3"
  },
  "language_info": {
   "codemirror_mode": {
    "name": "ipython",
    "version": 3
   },
   "file_extension": ".py",
   "mimetype": "text/x-python",
   "name": "python",
   "nbconvert_exporter": "python",
   "pygments_lexer": "ipython3",
   "version": "3.7.6"
  }
 },
 "nbformat": 4,
 "nbformat_minor": 4
}
