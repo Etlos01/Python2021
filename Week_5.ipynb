{
 "cells": [
  {
   "cell_type": "markdown",
   "metadata": {},
   "source": [
    "# Week 5 handin"
   ]
  },
  {
   "cell_type": "markdown",
   "metadata": {},
   "source": [
    "## Ex1 Use data from Danmarks Statistik - Databanken\n",
    "1. Go to https://www.dst.dk/da/Statistik/brug-statistikken/muligheder-i-statistikbanken/api#testkonsol\n",
    "2. Open 'Konsol' and click 'Start Konsol'\n",
    "3. In the console at pt 1: choose 'Retrieve tables', pt 2: choose get request and json format and pt 3: execute:\n",
    "  1. check the result\n",
    "  2. in the code below this same get request is used to get information about all available data tables in 'databanken'. \n",
    "4. Change pt. 1 in the console to 'Retrieve data', pt 2: 'get request' and Table id: 'FOLK1A', format: csv, delimiter: semicolon and click: 'Variable and value codes' and choose some sub categories (Hint: hover over the codes to see their meaning). Finally execute and see what data you get.\n",
    "5. With data aggregation and data visualization answer the following questions:\n",
    "  1. What is the change in pct of divorced danes from 2008 to 2020?\n",
    "  2. Which of the 5 biggest cities has the highest percentage of 'Never Married' in 2020?\n",
    "  3. Show a bar chart of changes in marrital status in Copenhagen from 2008 till now\n",
    "  4. Show 2 plots in same figure: 'Married' and 'Never Married' for all ages in DK in 2020 (Hint: x axis is age from 0-125, y axis is how many people in the 2 categories). Add lengend to show names on graphs"
   ]
  },
  {
   "cell_type": "markdown",
   "metadata": {},
   "source": [
    "## Status\n",
    "Spent too much time with 5.b. Didnt get any further. "
   ]
  },
  {
   "cell_type": "markdown",
   "metadata": {},
   "source": [
    "## Solution Ex1"
   ]
  },
  {
   "cell_type": "code",
   "execution_count": 1,
   "metadata": {},
   "outputs": [
    {
     "name": "stdout",
     "output_type": "stream",
     "text": [
      "Dataframe head: \n"
     ]
    },
    {
     "data": {
      "text/html": [
       "<div>\n",
       "<style scoped>\n",
       "    .dataframe tbody tr th:only-of-type {\n",
       "        vertical-align: middle;\n",
       "    }\n",
       "\n",
       "    .dataframe tbody tr th {\n",
       "        vertical-align: top;\n",
       "    }\n",
       "\n",
       "    .dataframe thead th {\n",
       "        text-align: right;\n",
       "    }\n",
       "</style>\n",
       "<table border=\"1\" class=\"dataframe\">\n",
       "  <thead>\n",
       "    <tr style=\"text-align: right;\">\n",
       "      <th></th>\n",
       "      <th>CIVILSTAND</th>\n",
       "      <th>TID</th>\n",
       "      <th>INDHOLD</th>\n",
       "    </tr>\n",
       "  </thead>\n",
       "  <tbody>\n",
       "    <tr>\n",
       "      <th>0</th>\n",
       "      <td>Fraskilt</td>\n",
       "      <td>2008K1</td>\n",
       "      <td>428864</td>\n",
       "    </tr>\n",
       "    <tr>\n",
       "      <th>1</th>\n",
       "      <td>Fraskilt</td>\n",
       "      <td>2008K2</td>\n",
       "      <td>431550</td>\n",
       "    </tr>\n",
       "    <tr>\n",
       "      <th>2</th>\n",
       "      <td>Fraskilt</td>\n",
       "      <td>2008K3</td>\n",
       "      <td>432713</td>\n",
       "    </tr>\n",
       "    <tr>\n",
       "      <th>3</th>\n",
       "      <td>Fraskilt</td>\n",
       "      <td>2008K4</td>\n",
       "      <td>432156</td>\n",
       "    </tr>\n",
       "    <tr>\n",
       "      <th>4</th>\n",
       "      <td>Fraskilt</td>\n",
       "      <td>2009K1</td>\n",
       "      <td>434233</td>\n",
       "    </tr>\n",
       "  </tbody>\n",
       "</table>\n",
       "</div>"
      ],
      "text/plain": [
       "  CIVILSTAND     TID  INDHOLD\n",
       "0   Fraskilt  2008K1   428864\n",
       "1   Fraskilt  2008K2   431550\n",
       "2   Fraskilt  2008K3   432713\n",
       "3   Fraskilt  2008K4   432156\n",
       "4   Fraskilt  2009K1   434233"
      ]
     },
     "execution_count": 1,
     "metadata": {},
     "output_type": "execute_result"
    }
   ],
   "source": [
    "import pandas as pd\n",
    "import numpy as np\n",
    "\n",
    "divorced_between_2008and2020 = pd.read_csv('https://api.statbank.dk/v1/data/Folk1a/CSV?valuePresentation=Value&delimiter=Semicolon&CIVILSTAND=F&Tid=*', sep=';')\n",
    "print('Dataframe head: ')\n",
    "divorced_between_2008and2020.head()"
   ]
  },
  {
   "cell_type": "code",
   "execution_count": 2,
   "metadata": {},
   "outputs": [
    {
     "name": "stdout",
     "output_type": "stream",
     "text": [
      "Forskel i procent:\n",
      "29.0 %\n"
     ]
    }
   ],
   "source": [
    "#Udregn procentvis forskel imellem 2008 og 2020\n",
    "div_in_2008 = divorced_between_2008and2020.iloc[0][2]\n",
    "div_in_2020 = divorced_between_2008and2020.iloc[-2][2]\n",
    "print('Forskel i procent:')\n",
    "print(round((div_in_2020/div_in_2008-1)*100,0),'%')"
   ]
  },
  {
   "cell_type": "code",
   "execution_count": 47,
   "metadata": {},
   "outputs": [
    {
     "ename": "TypeError",
     "evalue": "unsupported operand type(s) for /: 'str' and 'str'",
     "output_type": "error",
     "traceback": [
      "\u001b[0;31m---------------------------------------------------------------------------\u001b[0m",
      "\u001b[0;31mTypeError\u001b[0m                                 Traceback (most recent call last)",
      "\u001b[0;32m<ipython-input-47-f1fa83c5be91>\u001b[0m in \u001b[0;36m<module>\u001b[0;34m\u001b[0m\n\u001b[1;32m     19\u001b[0m \u001b[0;31m#This seems to solve numeric\u001b[0m\u001b[0;34m\u001b[0m\u001b[0;34m\u001b[0m\u001b[0;34m\u001b[0m\u001b[0m\n\u001b[1;32m     20\u001b[0m \u001b[0;34m\u001b[0m\u001b[0m\n\u001b[0;32m---> 21\u001b[0;31m \u001b[0mprocent\u001b[0m \u001b[0;34m=\u001b[0m \u001b[0;34m(\u001b[0m\u001b[0mmask_unmarried_status\u001b[0m\u001b[0;34m.\u001b[0m\u001b[0miloc\u001b[0m\u001b[0;34m[\u001b[0m\u001b[0;36m1\u001b[0m\u001b[0;34m]\u001b[0m\u001b[0;34m[\u001b[0m\u001b[0;36m1\u001b[0m\u001b[0;34m]\u001b[0m\u001b[0;34m/\u001b[0m\u001b[0mmask_all_status\u001b[0m\u001b[0;34m.\u001b[0m\u001b[0miloc\u001b[0m\u001b[0;34m[\u001b[0m\u001b[0;36m1\u001b[0m\u001b[0;34m]\u001b[0m\u001b[0;34m[\u001b[0m\u001b[0;36m1\u001b[0m\u001b[0;34m]\u001b[0m\u001b[0;34m)\u001b[0m\u001b[0;34m*\u001b[0m\u001b[0;36m100\u001b[0m\u001b[0;34m\u001b[0m\u001b[0;34m\u001b[0m\u001b[0m\n\u001b[0m\u001b[1;32m     22\u001b[0m \u001b[0mprint\u001b[0m\u001b[0;34m(\u001b[0m\u001b[0mprocent\u001b[0m\u001b[0;34m)\u001b[0m\u001b[0;34m\u001b[0m\u001b[0;34m\u001b[0m\u001b[0m\n\u001b[1;32m     23\u001b[0m \u001b[0;34m\u001b[0m\u001b[0m\n",
      "\u001b[0;31mTypeError\u001b[0m: unsupported operand type(s) for /: 'str' and 'str'"
     ]
    }
   ],
   "source": [
    "indbyggere = pd.read_csv('https://api.statbank.dk/v1/data/FOLK1A/CSV?valuePresentation=Value&delimiter=Semicolon&OMR%C3%85DE=*&Tid=2020K4&CIVILSTAND=TOT%2CU', sep=';')\n",
    "big_cities = ['København','Odense','Aalborg','Aarhus','Esbjerg']\n",
    "\n",
    "#Sorter på indbyggertal\n",
    "hojeste_indbyggertal = indbyggere[indbyggere['OMRÅDE'].isin(big_cities)].sort_values(by='INDHOLD', ascending=False)\n",
    "\n",
    "#Sorter ugifte fra alle andre\n",
    "mask_all_status = hojeste_indbyggertal[hojeste_indbyggertal['CIVILSTAND'].isin(['I alt'])]\n",
    "mask_unmarried_status = hojeste_indbyggertal[hojeste_indbyggertal['CIVILSTAND'].isin(['Ugift'])]\n",
    "\n",
    "#Make new columns with percent of unmarried\n",
    "#mask_all_status[\"PROCENT AF UGIFTE\"] = mask_unmarried_status['INDHOLD'].to_numeric()\n",
    "\n",
    "\n",
    "percent = hojeste_indbyggertal.drop(columns=['CIVILSTAND','TID'])\n",
    "\n",
    "#percent[\"PROCENT AF UGIFTE\"] = percent[mask_unmarried_status.iloc['INDHOLD']/mask_all_status['INDHOLD']]\n",
    "\n",
    "#This seems to solve numeric\n",
    "\n",
    "procent = (mask_unmarried_status.iloc[1][1]/mask_all_status.iloc[1][1])*100\n",
    "print(procent)\n",
    "\n",
    "\n",
    "\n",
    "\n",
    "\n",
    "#csv_data_1 = pd.read_csv(\"https://api.statbank.dk/v1/data/FOLK1A/CSV?valuePresentation=Value&timeOrder=Descending&delimiter=Semicolon&OMR%C3%85DE=*\", sep=\";\")\n",
    "#biggest_cities = csv_data_1[~csv_data_1.OMRÅDE.str.contains('|'.join([\"Region\", \"Hele\"]))].nlargest(5, 'INDHOLD')\n",
    "#biggest_cities_cut = biggest_cities[['OMRÅDE', 'INDHOLD']]\n",
    "\n",
    "#csv_data_2 = pd.read_csv(\"https://api.statbank.dk/v1/data/FOLK1A/CSV?valuePresentation=Value&delimiter=Semicolon&OMR%C3%85DE=*&CIVILSTAND=U&Tid=2020K4\", sep=\";\")\n",
    "#top_5_divorced_cities = csv_data_2[csv_data_2['OMRÅDE'].isin(biggest_cities_cut['OMRÅDE'])]\n",
    "#top_5_divorced_cities_cut = top_5_divorced_cities[['OMRÅDE','INDHOLD']].reindex(biggest_cities_cut.index)\n",
    "\n",
    "#final_product = pd.DataFrame(columns=(\"OMRÅDE\", \"PROCENT\"))\n",
    "#for x in range(5):\n",
    "#    procent = (top_5_divorced_cities_cut.iloc[x][1]/biggest_cities_cut.iloc[x][1])*100\n",
    "#    final_product.loc[x] = ([biggest_cities_cut.iloc[x][0], procent])\n",
    "#final_product_sorted = final_product.sort_values(by=['PROCENT'], ascending=False)\n",
    "\n",
    "#print(final_product_sorted)"
   ]
  },
  {
   "cell_type": "code",
   "execution_count": 4,
   "metadata": {},
   "outputs": [
    {
     "data": {
      "text/html": [
       "<div>\n",
       "<style scoped>\n",
       "    .dataframe tbody tr th:only-of-type {\n",
       "        vertical-align: middle;\n",
       "    }\n",
       "\n",
       "    .dataframe tbody tr th {\n",
       "        vertical-align: top;\n",
       "    }\n",
       "\n",
       "    .dataframe thead th {\n",
       "        text-align: right;\n",
       "    }\n",
       "</style>\n",
       "<table border=\"1\" class=\"dataframe\">\n",
       "  <thead>\n",
       "    <tr style=\"text-align: right;\">\n",
       "      <th></th>\n",
       "      <th>OMRÅDE</th>\n",
       "      <th>TID</th>\n",
       "      <th>CIVILSTAND</th>\n",
       "      <th>INDHOLD</th>\n",
       "    </tr>\n",
       "  </thead>\n",
       "  <tbody>\n",
       "    <tr>\n",
       "      <th>5</th>\n",
       "      <td>København</td>\n",
       "      <td>2020K4</td>\n",
       "      <td>Ugift</td>\n",
       "      <td>417782</td>\n",
       "    </tr>\n",
       "    <tr>\n",
       "      <th>169</th>\n",
       "      <td>Aarhus</td>\n",
       "      <td>2020K4</td>\n",
       "      <td>Ugift</td>\n",
       "      <td>211863</td>\n",
       "    </tr>\n",
       "    <tr>\n",
       "      <th>209</th>\n",
       "      <td>Aalborg</td>\n",
       "      <td>2020K4</td>\n",
       "      <td>Ugift</td>\n",
       "      <td>120226</td>\n",
       "    </tr>\n",
       "    <tr>\n",
       "      <th>117</th>\n",
       "      <td>Odense</td>\n",
       "      <td>2020K4</td>\n",
       "      <td>Ugift</td>\n",
       "      <td>113639</td>\n",
       "    </tr>\n",
       "    <tr>\n",
       "      <th>125</th>\n",
       "      <td>Esbjerg</td>\n",
       "      <td>2020K4</td>\n",
       "      <td>Ugift</td>\n",
       "      <td>55161</td>\n",
       "    </tr>\n",
       "  </tbody>\n",
       "</table>\n",
       "</div>"
      ],
      "text/plain": [
       "        OMRÅDE     TID CIVILSTAND  INDHOLD\n",
       "5    København  2020K4      Ugift   417782\n",
       "169     Aarhus  2020K4      Ugift   211863\n",
       "209    Aalborg  2020K4      Ugift   120226\n",
       "117     Odense  2020K4      Ugift   113639\n",
       "125    Esbjerg  2020K4      Ugift    55161"
      ]
     },
     "execution_count": 4,
     "metadata": {},
     "output_type": "execute_result"
    }
   ],
   "source": [
    "mask_unmarried_status\n"
   ]
  }
 ],
 "metadata": {
  "kernelspec": {
   "display_name": "Python 3",
   "language": "python",
   "name": "python3"
  },
  "language_info": {
   "codemirror_mode": {
    "name": "ipython",
    "version": 3
   },
   "file_extension": ".py",
   "mimetype": "text/x-python",
   "name": "python",
   "nbconvert_exporter": "python",
   "pygments_lexer": "ipython3",
   "version": "3.7.6"
  }
 },
 "nbformat": 4,
 "nbformat_minor": 4
}
