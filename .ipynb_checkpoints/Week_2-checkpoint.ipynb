{
 "cells": [
  {
   "cell_type": "markdown",
   "metadata": {},
   "source": [
    "# Week 2 handin"
   ]
  },
  {
   "cell_type": "markdown",
   "metadata": {},
   "source": [
    "## Assignment\n",
    "\n",
    "## Exercise 1\n",
    "1. Create a python file with 3 functions:\n",
    "  1. `def print_file_content(file)` that can print content of a csv file to the console\n",
    "  2. `def write_list_to_file(output_file, lst)` that can take a list of tuple and write each element to a new line in file\n",
    "    1. rewrite the function so that it gets an arbitrary number of strings instead of a list\n",
    "  3. `def read_csv(input_file)` that take a csv file and read each row into a list\n",
    "2. Add a functionality so that the file can be called from cli with 2 arguments\n",
    "  1. path to csv file\n",
    "  2. an argument `--file file_name` that if given will write the content to file_name or otherwise will print it to the console.\n",
    "3. Add a --help cli argument to describe how the module is used  \n",
    "\n",
    "## Exercise 2\n",
    "Create a module called utils.py with the following 5 functions:\n",
    "\n",
    "```python\n",
    "def get_file_names(folderpath,out=output.txt):\n",
    "    \"\"\" takes a path to a folder and writes all filenames in the folder to a specified output file\"\"\"\n",
    "\n",
    "def get_all_file_names(folderpath,out=output.txt):\n",
    "    \"\"\"takes a path to a folder and write all filenames recursively (files of all sub folders to)\"\"\"\n",
    "\n",
    "def print_line_one(file_names):\n",
    "    \"\"\"takes a list of filenames and print the first line of each\"\"\"\n",
    "\n",
    "def print_emails(file_names):\n",
    "    \"\"\"takes a list of filenames and print each line that contains an email (just look for @)\"\"\"\n",
    "\n",
    "def write_headlines(md_files, out=output.txt):\n",
    "    \"\"\"takes a list of md files and writes all headlines (lines starting with #) to a file\"\"\"\n",
    "\n",
    "```\n",
    "Make sure your module can be called both from cli and imported to another module\n",
    "Create a new module that imports utils.py and test each function."
   ]
  },
  {
   "cell_type": "markdown",
   "metadata": {},
   "source": [
    "## Status\n",
    "Everything done. "
   ]
  },
  {
   "cell_type": "markdown",
   "metadata": {},
   "source": [
    "## Exercise 1"
   ]
  },
  {
   "cell_type": "code",
   "execution_count": 1,
   "metadata": {},
   "outputs": [
    {
     "name": "stdout",
     "output_type": "stream",
     "text": [
      "This,is,a,CSV,file\n",
      "and,this,is,the,second,line\n",
      "\n"
     ]
    }
   ],
   "source": [
    "from modules import week2\n",
    "\n",
    "#execise 1.1.A\n",
    "\n",
    "week2.print_file_content('modules/csv.txt')"
   ]
  },
  {
   "cell_type": "code",
   "execution_count": 2,
   "metadata": {},
   "outputs": [
    {
     "name": "stdout",
     "output_type": "stream",
     "text": [
      "apple\n",
      "banana\n",
      "cherry\n",
      "\n"
     ]
    }
   ],
   "source": [
    "#exercise 1.1.B.a\n",
    "\n",
    "thistuple = (\"apple\", \"banana\", \"cherry\")\n",
    "week2.write_list_to_file_A('modules/writetome.txt',thistuple)\n",
    "week2.print_file_content('modules/writetome.txt')"
   ]
  },
  {
   "cell_type": "code",
   "execution_count": 3,
   "metadata": {},
   "outputs": [
    {
     "name": "stdout",
     "output_type": "stream",
     "text": [
      "str1\n",
      "str2\n",
      "str3\n",
      "\n"
     ]
    }
   ],
   "source": [
    "#exercise 1.1.B.b\n",
    "\n",
    "week2.write_list_to_file_B('modules/writetome.txt','str1','str2','str3')\n",
    "week2.print_file_content('modules/writetome.txt')"
   ]
  },
  {
   "cell_type": "code",
   "execution_count": 4,
   "metadata": {},
   "outputs": [
    {
     "data": {
      "text/plain": [
       "[['This', 'is', 'a', 'CSV', 'file'],\n",
       " ['and', 'this', 'is', 'the', 'second', 'line']]"
      ]
     },
     "execution_count": 4,
     "metadata": {},
     "output_type": "execute_result"
    }
   ],
   "source": [
    "#exercise 1.1.C\n",
    "\n",
    "week2.read_csv('modules/csv.txt')\n"
   ]
  },
  {
   "cell_type": "code",
   "execution_count": 5,
   "metadata": {
    "scrolled": true
   },
   "outputs": [
    {
     "name": "stdout",
     "output_type": "stream",
     "text": [
      "Traceback (most recent call last):\r\n",
      "  File \"modules/week2.py\", line 2, in <module>\r\n",
      "    from modules import utils\r\n",
      "ModuleNotFoundError: No module named 'modules'\r\n"
     ]
    }
   ],
   "source": [
    "#exercise 1.2 + 1.3\n",
    "\n",
    "!python modules/week2.py modules/csv.txt -f modules/writetome.txt -l en to tre"
   ]
  },
  {
   "cell_type": "markdown",
   "metadata": {},
   "source": [
    "## Exercise 2"
   ]
  },
  {
   "cell_type": "code",
   "execution_count": 6,
   "metadata": {},
   "outputs": [
    {
     "name": "stdout",
     "output_type": "stream",
     "text": [
      "week2.py\n",
      "utility2.txt\n",
      "__init__.py\n",
      "utility3.txt\n",
      "utility1.txt\n",
      "__pycache__\n",
      "utils.py\n",
      "csv.txt\n",
      ".ipynb_checkpoints\n",
      "writetome.txt\n",
      "ultilty2.txt\n",
      "\n"
     ]
    }
   ],
   "source": [
    "#exercise 2.1\n",
    "\n",
    "file_names = ['modules/utility1.txt',\n",
    "             'modules/utility2.txt',\n",
    "             'modules/utility3.txt',\n",
    "             'modules/csv.txt']\n",
    "\n",
    "week2.utils.get_file_names('modules','modules/utility1.txt')\n",
    "week2.print_file_content('modules/utility1.txt')"
   ]
  },
  {
   "cell_type": "code",
   "execution_count": 7,
   "metadata": {},
   "outputs": [
    {
     "name": "stdout",
     "output_type": "stream",
     "text": [
      "week2.py\n",
      "utility2.txt\n",
      "__init__.py\n",
      "utility3.txt\n",
      "utility1.txt\n",
      "__pycache__\n",
      "utils.py\n",
      "csv.txt\n",
      ".ipynb_checkpoints\n",
      "writetome.txt\n",
      "ultilty2.txt\n",
      "modules/week2.py\n",
      "modules/utility2.txt\n",
      "modules/__init__.py\n",
      "modules/utility3.txt\n",
      "modules/utility1.txt\n",
      "modules/utils.py\n",
      "modules/csv.txt\n",
      "modules/writetome.txt\n",
      "modules/ultilty2.txt\n",
      "modules/__pycache__/week2.cpython-37.pyc\n",
      "modules/__pycache__/utils.cpython-37.pyc\n",
      "modules/__pycache__/__init__.cpython-37.pyc\n",
      "\n"
     ]
    }
   ],
   "source": [
    "#exercise 2.2\n",
    "\n",
    "week2.utils.get_all_file_names('modules','modules/utility1.txt')\n",
    "week2.print_file_content('modules/utility1.txt')"
   ]
  },
  {
   "cell_type": "code",
   "execution_count": 8,
   "metadata": {},
   "outputs": [
    {
     "name": "stdout",
     "output_type": "stream",
     "text": [
      "week2.py\n",
      "\n",
      "Hello\n",
      "\n",
      "Here is my email list:\n",
      "\n",
      "This,is,a,CSV,file\n",
      "\n"
     ]
    }
   ],
   "source": [
    "#exercise 2.3\n",
    "\n",
    "week2.utils.print_line_one(file_names)"
   ]
  },
  {
   "cell_type": "code",
   "execution_count": 9,
   "metadata": {},
   "outputs": [
    {
     "name": "stdout",
     "output_type": "stream",
     "text": [
      "    hans@jupyter.com\n",
      "\n",
      "    lene@jupyter.com\n",
      "\n",
      "    troll@jupyter.com\n",
      "\n"
     ]
    }
   ],
   "source": [
    "#exercise 2.4\n",
    "\n",
    "week2.utils.print_emails(file_names)"
   ]
  },
  {
   "cell_type": "code",
   "execution_count": 12,
   "metadata": {},
   "outputs": [
    {
     "name": "stdout",
     "output_type": "stream",
     "text": [
      "#Det her er vigtigt\n",
      "#Men lad vær med at kigge\n"
     ]
    }
   ],
   "source": [
    "#exercise 2.5\n",
    "\n",
    "week2.utils.write_headlines(file_names, 'modules/utility2.txt')\n",
    "week2.print_file_content('modules/utility2.txt')"
   ]
  }
 ],
 "metadata": {
  "kernelspec": {
   "display_name": "Python 3",
   "language": "python",
   "name": "python3"
  },
  "language_info": {
   "codemirror_mode": {
    "name": "ipython",
    "version": 3
   },
   "file_extension": ".py",
   "mimetype": "text/x-python",
   "name": "python",
   "nbconvert_exporter": "python",
   "pygments_lexer": "ipython3",
   "version": "3.7.6"
  }
 },
 "nbformat": 4,
 "nbformat_minor": 4
}
