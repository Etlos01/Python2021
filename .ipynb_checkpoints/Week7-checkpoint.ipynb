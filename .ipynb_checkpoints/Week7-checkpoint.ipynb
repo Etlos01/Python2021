{
 "cells": [
  {
   "cell_type": "markdown",
   "metadata": {},
   "source": [
    "# Handin week 7\n",
    "\n",
    "## Exercise 1\n",
    "Create a Python module with a class called Webscraper that implements an init(self,URL) and functions that use Selenium, BeautifulSoup and Regex needed to solve Exercise 2 (and 3). Furthermore, let the data be stored in class variables, so that results are easily accessed via objects.\n",
    "\n",
    "## Exercise 2\n",
    "1. Import your module to your Jupyter notebook.\n",
    "2. Make an instance of your class with the following url: https://www.pricerunner.dk/cl/37/Grafikkort\n",
    "3. Find graphics cards from Nvidia.\n",
    "4. Find the most popular graphics processing unit (2080, 3070, etc.).\n",
    "5. Store the result in a local dataset.\n",
    "\n",
    "## Exercise 3\n",
    "1. Given the result from exercise 2, find the five cheapest cards across brands, and show them in a plot chart, with ‘name’ on the x-axis and ‘price’ on the y-axis.\n",
    "2. For the cheapest card, find out which dealers are trading it, and what the average price is. (Hint: new search/webscrape)\n",
    "3. Find the brand with the GPU that has the biggest difference in list price.\n",
    "\n",
    "### By Group 1, E:\n",
    "- Benjamin Choleva (cph-bc105@cphbusiness.dk)\n",
    "- Nicolas Malte Johan Allesøe (cph-na157@cphbusiness.dk)\n",
    "- Christoffer Kofoed Foldager (cph-cf161@cphbusiness.dk)\n",
    "- Andreas Maxim Arenfeldt Andersen (cph-aa344@cphbusiness.dk)"
   ]
  },
  {
   "cell_type": "markdown",
   "metadata": {},
   "source": [
    "## Status\n",
    "Working"
   ]
  },
  {
   "cell_type": "markdown",
   "metadata": {},
   "source": [
    "## Solution Ex1"
   ]
  },
  {
   "cell_type": "code",
   "execution_count": null,
   "metadata": {},
   "outputs": [
    {
     "name": "stdout",
     "output_type": "stream",
     "text": [
      "Initialzin webdriver\n",
      "\n",
      "Fetching url\n"
     ]
    }
   ],
   "source": [
    "from modules import w7\n",
    "import importlib\n",
    "importlib.reload(w7)\n",
    "scrape = w7.Webscraper(\"https://www.pricerunner.dk/cl/37/Grafikkort%22\")\n",
    "scrape.search(\"NVidia\")\n",
    "scrape.cards"
   ]
  }
 ],
 "metadata": {
  "kernelspec": {
   "display_name": "Python 3",
   "language": "python",
   "name": "python3"
  },
  "language_info": {
   "codemirror_mode": {
    "name": "ipython",
    "version": 3
   },
   "file_extension": ".py",
   "mimetype": "text/x-python",
   "name": "python",
   "nbconvert_exporter": "python",
   "pygments_lexer": "ipython3",
   "version": "3.7.6"
  }
 },
 "nbformat": 4,
 "nbformat_minor": 4
}
