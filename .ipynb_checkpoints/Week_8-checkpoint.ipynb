{
 "cells": [
  {
   "cell_type": "markdown",
   "metadata": {},
   "source": [
    "# Handin week 8\n",
    "\n",
    "\n",
    "## Exercise 1\n",
    "1. Lav en RESTful webservice med FLASK som har et GET og POST endpoint.\n",
    "\n",
    "## Exercise 2\n",
    "1. Få fat i data fra \"https://api.chucknorris.io/jokes/random\" med request.get()\n",
    "2. Filtrer dataen så resultatet er en string med \"value\" og brug POST endpointet til at persistere til DB.\n",
    "\n",
    "## Exercise 3\n",
    "1. Brug GET endpoint til at hente data op fra DB.\n",
    "2. Send et response med et JSON objekt med {text: \"Random Joke\", value: \"resultat fra punkt 1.\"}.\n",
    "\n",
    "### By Group 1, E:\n",
    "- Benjamin Choleva (cph-bc105@cphbusiness.dk)\n",
    "- Nicolas Malte Johan Allesøe (cph-na157@cphbusiness.dk)\n",
    "- Christoffer Kofoed Foldager (cph-cf161@cphbusiness.dk)\n",
    "- Andreas Maxim Arenfeldt Andersen (cph-aa344@cphbusiness.dk)"
   ]
  },
  {
   "cell_type": "markdown",
   "metadata": {},
   "source": [
    "## Status\n",
    "Working"
   ]
  },
  {
   "cell_type": "markdown",
   "metadata": {},
   "source": [
    "## Solution Ex1"
   ]
  },
  {
   "cell_type": "code",
   "execution_count": 1,
   "metadata": {},
   "outputs": [
    {
     "name": "stdout",
     "output_type": "stream",
     "text": [
      "Hello, World from flask server!\n"
     ]
    }
   ],
   "source": [
    "import requests as req\n",
    "import sqlalchemy as s_a\n",
    "\n",
    "\n",
    "#Move the file \"flask_app_week_8.py\" from /modules/ into /flask/ if its not already there.\n",
    "#Open a terminal on the notebook folder and type: docker exec -it -e FLASK_APP=\"flask/flask_app_week_8.py\" notebookserver bash\n",
    "#Then type: flask run --host=0.0.0.0\n",
    "#Now our RESTful webservice is running on http://0.0.0.0:5000/  -- visit /flask_app/ to get a \"Hello\"\n",
    "\n",
    "#Here is a hello message. ;) \n",
    "print(req.get(\"http://0.0.0.0:5000/flask_app/\").text)"
   ]
  },
  {
   "cell_type": "code",
   "execution_count": 8,
   "metadata": {},
   "outputs": [
    {
     "name": "stdout",
     "output_type": "stream",
     "text": [
      "{'categories': [], 'created_at': '2020-01-05 13:42:28.143137', 'icon_url': 'https://assets.chucknorris.host/img/avatar/chuck-norris.png', 'id': 'xZKpXJGMSxS686fWPjJbWA', 'updated_at': '2020-01-05 13:42:28.143137', 'url': 'https://api.chucknorris.io/jokes/xZKpXJGMSxS686fWPjJbWA', 'value': 'Pac-Man was based on Chuck Norris. They both eat souls.'}\n",
      "\n",
      " Heres the joke on its own: Pac-Man was based on Chuck Norris. They both eat souls.\n"
     ]
    }
   ],
   "source": [
    "#Fetching a joke\n",
    "fetch = req.get(\"https://api.chucknorris.io/jokes/random\").json()\n",
    "print(fetch)\n",
    "#Getting the value\n",
    "joke = fetch.get('value')\n",
    "print(\"\\n Heres the joke on its own: \" + joke)"
   ]
  },
  {
   "cell_type": "code",
   "execution_count": 9,
   "metadata": {},
   "outputs": [
    {
     "data": {
      "text/plain": [
       "<Response [200]>"
      ]
     },
     "execution_count": 9,
     "metadata": {},
     "output_type": "execute_result"
    }
   ],
   "source": [
    "req.post(\"http://0.0.0.0:5000/jokes/\", json=joke)"
   ]
  },
  {
   "cell_type": "code",
   "execution_count": 28,
   "metadata": {},
   "outputs": [],
   "source": [
    "joke = req.get(\"http://0.0.0.0:5000/jokes/get_rand_joke\").text"
   ]
  },
  {
   "cell_type": "code",
   "execution_count": 5,
   "metadata": {},
   "outputs": [
    {
     "ename": "NameError",
     "evalue": "name 'mysql' is not defined",
     "output_type": "error",
     "traceback": [
      "\u001b[0;31m---------------------------------------------------------------------------\u001b[0m",
      "\u001b[0;31mNameError\u001b[0m                                 Traceback (most recent call last)",
      "\u001b[0;32m<ipython-input-5-081b1a01d5df>\u001b[0m in \u001b[0;36m<module>\u001b[0;34m\u001b[0m\n\u001b[0;32m----> 1\u001b[0;31m db = mysql.connect(\n\u001b[0m\u001b[1;32m      2\u001b[0m     \u001b[0;31m# connect to the mysql server running in container with service name: db. CAUTION data here are not persisted past container lifespan\u001b[0m\u001b[0;34m\u001b[0m\u001b[0;34m\u001b[0m\u001b[0;34m\u001b[0m\u001b[0m\n\u001b[1;32m      3\u001b[0m     \u001b[0mhost\u001b[0m \u001b[0;34m=\u001b[0m \u001b[0;34m\"db\"\u001b[0m\u001b[0;34m,\u001b[0m \u001b[0;31m# would be localhost if not running in docker\u001b[0m\u001b[0;34m\u001b[0m\u001b[0;34m\u001b[0m\u001b[0m\n\u001b[1;32m      4\u001b[0m     \u001b[0muser\u001b[0m \u001b[0;34m=\u001b[0m \u001b[0;34m\"root\"\u001b[0m\u001b[0;34m,\u001b[0m\u001b[0;34m\u001b[0m\u001b[0;34m\u001b[0m\u001b[0m\n\u001b[1;32m      5\u001b[0m     \u001b[0mpasswd\u001b[0m \u001b[0;34m=\u001b[0m \u001b[0;34m\"root\"\u001b[0m\u001b[0;34m,\u001b[0m\u001b[0;34m\u001b[0m\u001b[0;34m\u001b[0m\u001b[0m\n",
      "\u001b[0;31mNameError\u001b[0m: name 'mysql' is not defined"
     ]
    }
   ],
   "source": [
    "db = mysql.connect(\n",
    "    # connect to the mysql server running in container with service name: db. CAUTION data here are not persisted past container lifespan\n",
    "    host = \"db\", # would be localhost if not running in docker\n",
    "    user = \"root\",\n",
    "    passwd = \"root\",\n",
    "    db = \"db\"\n",
    "    #,charset='latin1'\n",
    "    #,collation='latin1_danish_ci'\n",
    ")\n",
    "\n",
    "cur = db.cursor()\n",
    "query = 'select * from ex1'\n",
    "cur.execute(query)\n",
    "print('TABLE COLUMNS: ',cur.column_names,'\\n')\n",
    "\n",
    "myresult = cur.fetchall()\n",
    "\n",
    "for x in myresult:\n",
    "    print(x)"
   ]
  }
 ],
 "metadata": {
  "kernelspec": {
   "display_name": "Python 3",
   "language": "python",
   "name": "python3"
  },
  "language_info": {
   "codemirror_mode": {
    "name": "ipython",
    "version": 3
   },
   "file_extension": ".py",
   "mimetype": "text/x-python",
   "name": "python",
   "nbconvert_exporter": "python",
   "pygments_lexer": "ipython3",
   "version": "3.7.6"
  }
 },
 "nbformat": 4,
 "nbformat_minor": 4
}
